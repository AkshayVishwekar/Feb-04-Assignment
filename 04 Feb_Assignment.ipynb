{
 "cells": [
  {
   "cell_type": "markdown",
   "id": "03bcf204-63e1-49f1-9065-7e8b02709d67",
   "metadata": {},
   "source": [
    "##Q1. Create a python program to sort the given list of tuples based on integer value using a\n",
    "lambda function.\n",
    "[('Sachin Tendulkar', 34357), ('Ricky Ponting', 27483), ('Jack Kallis', 25534), ('Virat Kohli', 24936)]"
   ]
  },
  {
   "cell_type": "code",
   "execution_count": 1,
   "id": "0412f578-18c7-46ac-8d57-5cc6cdbce4e8",
   "metadata": {},
   "outputs": [
    {
     "name": "stdout",
     "output_type": "stream",
     "text": [
      "[('Virat Kohli', 24936), ('Jack Kallis', 25534), ('Ricky Ponting', 27483), ('Sachin Tendulkar', 34357)]\n"
     ]
    }
   ],
   "source": [
    "#Create a python program to sort the given list of tuples based on integer value using a lambda function.\n",
    "l1 = [('Sachin Tendulkar', 34357), ('Ricky Ponting', 27483), ('Jack Kallis', 25534), ('Virat Kohli', 24936)]\n",
    "l1.sort(key = lambda l1: l1[1])\n",
    "print(l1)"
   ]
  },
  {
   "cell_type": "markdown",
   "id": "d19c18f0-c1b5-485e-bae4-57198110ebc8",
   "metadata": {},
   "source": [
    "##Q2. Write a Python Program to find the squares of all the numbers in the given list of integers using\n",
    "lambda and map functions.\n",
    "[1, 2, 3, 4, 5, 6, 7, 8, 9, 10]"
   ]
  },
  {
   "cell_type": "code",
   "execution_count": 2,
   "id": "a5919097-90a0-4c7d-ae5d-b9039fc48963",
   "metadata": {},
   "outputs": [
    {
     "name": "stdout",
     "output_type": "stream",
     "text": [
      "[1, 4, 9, 16, 25, 36, 49, 64, 81, 100]\n"
     ]
    }
   ],
   "source": [
    "#a Python Program to find the squares of all the numbers in the given list of integers using lambda and map functions.\n",
    "l2 = [1, 2, 3, 4, 5, 6, 7, 8, 9, 10]\n",
    "print(list(map(lambda x: x**2, l2)))"
   ]
  },
  {
   "cell_type": "markdown",
   "id": "befa2ba7-c29f-4a10-82d5-0d5cbf9457b5",
   "metadata": {},
   "source": [
    "##Q3. Write a python program to convert the given list of integers into a tuple of strings. Use map and lambda functions\n",
    "Given String: [1, 2, 3, 4, 5, 6, 7, 8, 9, 10]\n",
    "Expected output: ('1', '2', '3', '4', '5', '6', '7', '8', '9', '10')"
   ]
  },
  {
   "cell_type": "code",
   "execution_count": 3,
   "id": "b2319527-8d60-42c3-a39c-45995351c948",
   "metadata": {},
   "outputs": [
    {
     "name": "stdout",
     "output_type": "stream",
     "text": [
      "15511210043330985984000000\n"
     ]
    }
   ],
   "source": [
    "#a python program using reduce function to compute the product of a list containing numbers from 1 to 25.\n",
    "from functools import reduce\n",
    "l4=[1, 2, 3, 4, 5, 6, 7, 8, 9, 10, 11, 12, 13, 14, 15, 16, 17, 18, 19, 20, 21, 22, 23, 24, 25]\n",
    "print(reduce(lambda x, y: x*y,  l4))"
   ]
  },
  {
   "cell_type": "markdown",
   "id": "64816ce2-cbaa-4dfe-9e79-887a71934002",
   "metadata": {},
   "source": [
    "##Q4. Write a python program using reduce function to compute the product of a list containing numbers\n",
    "from 1 to 25."
   ]
  },
  {
   "cell_type": "markdown",
   "id": "6ecfc9f8-3c30-48c2-900b-0ecc5e98ebef",
   "metadata": {},
   "source": [
    "#a python program using reduce function to compute the product of a list containing numbers from 1 to 25.\n",
    "from functools import reduce\n",
    "l4=[1, 2, 3, 4, 5, 6, 7, 8, 9, 10, 11, 12, 13, 14, 15, 16, 17, 18, 19, 20, 21, 22, 23, 24, 25]\n",
    "print(reduce(lambda x, y: x*y,  l4))"
   ]
  },
  {
   "cell_type": "markdown",
   "id": "9c415126-3a18-45da-8c4a-10cb1b3e2111",
   "metadata": {},
   "source": [
    "##Q5. Write a python program to filter the numbers in a given list that are divisible by 2 and 3 using the\n",
    "filter function.\n",
    "[2, 3, 6, 9, 27, 60, 90, 120, 55, 46]"
   ]
  },
  {
   "cell_type": "code",
   "execution_count": 7,
   "id": "1f51cc1e-f537-4860-b2dc-d1c4bb829a23",
   "metadata": {},
   "outputs": [
    {
     "name": "stdout",
     "output_type": "stream",
     "text": [
      "[6, 60, 90, 120]\n"
     ]
    }
   ],
   "source": [
    "#a python program to filter the numbers in a given list that are divisible by 2 and 3 using the filter function.\n",
    "l5 = [2, 3, 6, 9, 27, 60, 90, 120, 55, 46]\n",
    "print(list(filter(lambda x: x%2==0 and x%3==0, l5)))"
   ]
  },
  {
   "cell_type": "markdown",
   "id": "2b1cbc4a-13a0-4e6c-b758-0e5b6c90e87e",
   "metadata": {},
   "source": [
    "##Q6. Write a python program to find palindromes in the given list of strings using lambda and filter function."
   ]
  },
  {
   "cell_type": "code",
   "execution_count": 8,
   "id": "323cf589-b4bf-46a7-b3d6-8a8e458fff53",
   "metadata": {},
   "outputs": [
    {
     "name": "stdout",
     "output_type": "stream",
     "text": [
      "['php', 'aba', 'radar', 'level']\n"
     ]
    }
   ],
   "source": [
    "#a python program to find palindromes in the given list of strings using lambda and filter function.\n",
    "l6 = ['python', 'php', 'aba', 'radar', 'level']\n",
    "print(list(filter(lambda s: s==s[::-1], l6)))"
   ]
  },
  {
   "cell_type": "code",
   "execution_count": null,
   "id": "ee728ba2-69f8-4081-9c75-ca34ff25c49a",
   "metadata": {},
   "outputs": [],
   "source": []
  },
  {
   "cell_type": "code",
   "execution_count": null,
   "id": "39305934-167d-4acb-86c1-ac06459309a8",
   "metadata": {},
   "outputs": [],
   "source": []
  },
  {
   "cell_type": "code",
   "execution_count": null,
   "id": "71c7e131-7f7c-48e7-a646-afc860c4522b",
   "metadata": {},
   "outputs": [],
   "source": []
  },
  {
   "cell_type": "code",
   "execution_count": null,
   "id": "de64bb08-852e-48dd-824b-a6d9d568cbe3",
   "metadata": {},
   "outputs": [],
   "source": []
  },
  {
   "cell_type": "code",
   "execution_count": null,
   "id": "83284334-931e-4a2f-8289-ef211f436f33",
   "metadata": {},
   "outputs": [],
   "source": []
  },
  {
   "cell_type": "code",
   "execution_count": null,
   "id": "a6125a95-834b-4cba-90a2-c147231facb2",
   "metadata": {},
   "outputs": [],
   "source": []
  },
  {
   "cell_type": "code",
   "execution_count": null,
   "id": "94e4024d-8c11-43bf-a8f3-11d711ab59e9",
   "metadata": {},
   "outputs": [],
   "source": []
  },
  {
   "cell_type": "code",
   "execution_count": null,
   "id": "45786ac8-4918-4e42-bf61-6b6c136903d1",
   "metadata": {},
   "outputs": [],
   "source": []
  },
  {
   "cell_type": "code",
   "execution_count": null,
   "id": "5a1aee6a-daee-4f1c-bb0d-c1f2033a8082",
   "metadata": {},
   "outputs": [],
   "source": []
  },
  {
   "cell_type": "code",
   "execution_count": null,
   "id": "30207a70-173a-405f-a4ea-d2db70b3ae4c",
   "metadata": {},
   "outputs": [],
   "source": []
  },
  {
   "cell_type": "code",
   "execution_count": null,
   "id": "7d10b7a5-1387-48c6-9d60-988323ada13d",
   "metadata": {},
   "outputs": [],
   "source": []
  },
  {
   "cell_type": "code",
   "execution_count": null,
   "id": "bebbdd94-ced7-4e63-8c63-6a7d009a0db2",
   "metadata": {},
   "outputs": [],
   "source": []
  },
  {
   "cell_type": "code",
   "execution_count": null,
   "id": "8ceb5888-dbb9-47e3-9a08-0bbca0da7330",
   "metadata": {},
   "outputs": [],
   "source": []
  }
 ],
 "metadata": {
  "kernelspec": {
   "display_name": "Python 3 (ipykernel)",
   "language": "python",
   "name": "python3"
  },
  "language_info": {
   "codemirror_mode": {
    "name": "ipython",
    "version": 3
   },
   "file_extension": ".py",
   "mimetype": "text/x-python",
   "name": "python",
   "nbconvert_exporter": "python",
   "pygments_lexer": "ipython3",
   "version": "3.10.8"
  }
 },
 "nbformat": 4,
 "nbformat_minor": 5
}
